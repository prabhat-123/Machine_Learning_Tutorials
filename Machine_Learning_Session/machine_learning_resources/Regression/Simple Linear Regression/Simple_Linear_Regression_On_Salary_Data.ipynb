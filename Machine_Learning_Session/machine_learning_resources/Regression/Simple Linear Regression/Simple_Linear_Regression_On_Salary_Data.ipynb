{
  "nbformat": 4,
  "nbformat_minor": 0,
  "metadata": {
    "colab": {
      "name": "Simple_Linear_Regression_On_Salary_Data.ipynb",
      "provenance": [],
      "collapsed_sections": []
    },
    "kernelspec": {
      "name": "python3",
      "display_name": "Python 3"
    }
  },
  "cells": [
    {
      "cell_type": "markdown",
      "metadata": {
        "id": "I7GO7YdSBD-O",
        "colab_type": "text"
      },
      "source": [
        "<h1>Importing the libraries</h1>"
      ]
    },
    {
      "cell_type": "code",
      "metadata": {
        "id": "3GRMYCcYBJU8",
        "colab_type": "code",
        "colab": {}
      },
      "source": [
        "import pandas as pd\n",
        "import numpy as np\n",
        "import matplotlib.pyplot as plt\n"
      ],
      "execution_count": null,
      "outputs": []
    },
    {
      "cell_type": "markdown",
      "metadata": {
        "id": "x2NDKIpnBWrE",
        "colab_type": "text"
      },
      "source": [
        "<h1>Importing the Dataset</h1>"
      ]
    },
    {
      "cell_type": "code",
      "metadata": {
        "id": "dUtpuwuUBQJB",
        "colab_type": "code",
        "colab": {}
      },
      "source": [
        "dataset = pd.read_csv('Salary_Data.csv')\n",
        "X = dataset.iloc[:,:-1].values\n",
        "y = dataset.iloc[:,-1].values"
      ],
      "execution_count": null,
      "outputs": []
    },
    {
      "cell_type": "markdown",
      "metadata": {
        "id": "bsaIMtQ0CEoX",
        "colab_type": "text"
      },
      "source": [
        "<h1>Splitting the dataset into the Training and Test set </h1>"
      ]
    },
    {
      "cell_type": "code",
      "metadata": {
        "id": "Rg4FHaNnCDGy",
        "colab_type": "code",
        "colab": {}
      },
      "source": [
        "from sklearn.model_selection import train_test_split\n",
        "X_train,X_test,y_train,y_test = train_test_split(X,y,test_size=0.2,random_state = 0)"
      ],
      "execution_count": null,
      "outputs": []
    },
    {
      "cell_type": "markdown",
      "metadata": {
        "id": "ijDMwmi2DP5W",
        "colab_type": "text"
      },
      "source": [
        "<h1>Training the Simple Linear Regression Model On the Training Set </h1>"
      ]
    },
    {
      "cell_type": "code",
      "metadata": {
        "id": "hxG2EMRpCeWE",
        "colab_type": "code",
        "colab": {
          "base_uri": "https://localhost:8080/",
          "height": 34
        },
        "outputId": "832755cd-8351-4887-b86b-98027d12bfd4"
      },
      "source": [
        "from sklearn.linear_model import LinearRegression\n",
        "regressor = LinearRegression()\n",
        "regressor.fit(X_train,y_train)"
      ],
      "execution_count": null,
      "outputs": [
        {
          "output_type": "execute_result",
          "data": {
            "text/plain": [
              "LinearRegression(copy_X=True, fit_intercept=True, n_jobs=None, normalize=False)"
            ]
          },
          "metadata": {
            "tags": []
          },
          "execution_count": 10
        }
      ]
    },
    {
      "cell_type": "markdown",
      "metadata": {
        "id": "HRUnx4BYEG9N",
        "colab_type": "text"
      },
      "source": [
        "<h1>Predicting the test set results</h1>"
      ]
    },
    {
      "cell_type": "code",
      "metadata": {
        "id": "VrUpakBuChRS",
        "colab_type": "code",
        "colab": {}
      },
      "source": [
        "y_pred = regressor.predict(X_test)"
      ],
      "execution_count": null,
      "outputs": []
    },
    {
      "cell_type": "markdown",
      "metadata": {
        "id": "tEanyRjhEV8h",
        "colab_type": "text"
      },
      "source": [
        "<h1>Visualising the Training Set Results</h1>"
      ]
    },
    {
      "cell_type": "code",
      "metadata": {
        "id": "QEWFB1lSD5oG",
        "colab_type": "code",
        "colab": {
          "base_uri": "https://localhost:8080/",
          "height": 295
        },
        "outputId": "a3d88167-8189-4e6b-a9b6-2870a451cd9e"
      },
      "source": [
        "plt.scatter(X_train,y_train,color='red')\n",
        "plt.plot(X_train,regressor.predict(X_train),color='blue')\n",
        "plt.title('Salary Vs Experience (Training Set)')\n",
        "plt.xlabel('Experience')\n",
        "plt.ylabel('Salary')\n",
        "plt.show()"
      ],
      "execution_count": null,
      "outputs": [
        {
          "output_type": "display_data",
          "data": {
            "image/png": "[encoded data removed]",
            "text/plain": [
              "<Figure size 432x288 with 1 Axes>"
            ]
          },
          "metadata": {
            "tags": [],
            "needs_background": "light"
          }
        }
      ]
    },
    {
      "cell_type": "markdown",
      "metadata": {
        "id": "T3yq8bLqEYNA",
        "colab_type": "text"
      },
      "source": [
        "<h1>Visualizing the Test Set Results </h1>"
      ]
    },
    {
      "cell_type": "code",
      "metadata": {
        "id": "j5OFPvkIES4q",
        "colab_type": "code",
        "colab": {
          "base_uri": "https://localhost:8080/",
          "height": 295
        },
        "outputId": "80e62547-06f0-4c8e-9b56-90be41965294"
      },
      "source": [
        "plt.scatter(X_test,y_test,color='red')\n",
        "plt.plot(X_train,regressor.predict(X_train),color='blue')\n",
        "plt.title('Salary Vs Experience (Testing Set)')\n",
        "plt.xlabel('Experience')\n",
        "plt.ylabel('Salary')\n",
        "plt.show()"
      ],
      "execution_count": null,
      "outputs": [
        {
          "output_type": "display_data",
          "data": {
            "image/png": "[encoded data removed]",
            "text/plain": [
              "<Figure size 432x288 with 1 Axes>"
            ]
          },
          "metadata": {
            "tags": [],
            "needs_background": "light"
          }
        }
      ]
    },
    {
      "cell_type": "markdown",
      "metadata": {
        "id": "3joTo5MDIYm7",
        "colab_type": "text"
      },
      "source": [
        "<h1>Let's predict the salary of an employee with 15 years of experience</h1>"
      ]
    },
    {
      "cell_type": "code",
      "metadata": {
        "id": "txcGz03tH1yj",
        "colab_type": "code",
        "colab": {
          "base_uri": "https://localhost:8080/",
          "height": 34
        },
        "outputId": "e92b1ba6-c45e-4d16-eb9b-3c7d7e52de7b"
      },
      "source": [
        "regressor.predict([[15]])"
      ],
      "execution_count": null,
      "outputs": [
        {
          "output_type": "execute_result",
          "data": {
            "text/plain": [
              "array([166468.72605157])"
            ]
          },
          "metadata": {
            "tags": []
          },
          "execution_count": 15
        }
      ]
    },
    {
      "cell_type": "markdown",
      "metadata": {
        "id": "8A6Hp-ddJJ9H",
        "colab_type": "text"
      },
      "source": [
        "Therefore, our model predicts that the salary of an employee with 15 years of experience is $ 166468.72605157.\n",
        "\n",
        "**Important note:** Notice that the value of the feature (15 years) was input in a double pair of square brackets. That's because the \"predict\" method always expects a 2D array as the format of its inputs. And putting 15 into a double pair of square brackets makes the input exactly a 2D array. Simply put:\n",
        "\n",
        "15→scalar \n",
        "\n",
        "[15]→1D array \n",
        "\n",
        "[[15]]→2D array"
      ]
    },
    {
      "cell_type": "markdown",
      "metadata": {
        "id": "VytbUYZVJcMo",
        "colab_type": "text"
      },
      "source": [
        "<h1>Getting the final linear regression equation with the values of the coefficients</h1>"
      ]
    },
    {
      "cell_type": "code",
      "metadata": {
        "id": "I1X5Tdt3IpbL",
        "colab_type": "code",
        "colab": {
          "base_uri": "https://localhost:8080/",
          "height": 51
        },
        "outputId": "2a0a136b-2e0f-4d9c-95d1-133a97ba5eae"
      },
      "source": [
        "print(regressor.coef_)\n",
        "print(regressor.intercept_)"
      ],
      "execution_count": null,
      "outputs": [
        {
          "output_type": "stream",
          "text": [
            "[9312.57512673]\n",
            "26780.09915062818\n"
          ],
          "name": "stdout"
        }
      ]
    },
    {
      "cell_type": "markdown",
      "metadata": {
        "id": "FZIlwYTHJ1NR",
        "colab_type": "text"
      },
      "source": [
        "Therefore, the equation of our simple linear regression model is:\n",
        "\n",
        "Salary=93412.57512673×YearsExperience+26780.19 \n",
        "\n",
        "Important Note: To get these coefficients we called the \"coef_\" and \"intercept_\" attributes from our regressor object. Attributes in Python are different than methods and usually return a simple value or an array of values"
      ]
    }
  ]
}